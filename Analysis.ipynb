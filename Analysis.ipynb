{
 "cells": [
  {
   "cell_type": "markdown",
   "id": "7351628b-7aa1-4320-9559-ad1a3fe3d6a8",
   "metadata": {
    "editable": true,
    "slideshow": {
     "slide_type": "skip"
    },
    "tags": []
   },
   "source": [
    "# Import the quran and clean the dataset"
   ]
  },
  {
   "cell_type": "code",
   "execution_count": 35,
   "id": "215f7416-f16a-40a5-8913-f658abfdd235",
   "metadata": {
    "editable": true,
    "slideshow": {
     "slide_type": "skip"
    },
    "tags": []
   },
   "outputs": [],
   "source": [
    "import pandas as pd\n",
    "import matplotlib.pyplot as plt\n",
    "import numpy as np "
   ]
  },
  {
   "cell_type": "code",
   "execution_count": 4,
   "id": "9bbe3ad0-8302-4bbd-a5b5-c6738171b759",
   "metadata": {
    "editable": true,
    "slideshow": {
     "slide_type": "skip"
    },
    "tags": []
   },
   "outputs": [],
   "source": [
    "df = pd.read_csv(\"quran.csv\",header=None)\n",
    "df.columns = ['surah_number','verse_number','quran_lines_Transliteration','quran_lines','id','s-value','page_number_en','page_number_ar','index_1','surah_name_transliteration','surah_name','juz','something']"
   ]
  },
  {
   "cell_type": "code",
   "execution_count": 5,
   "id": "cbb2d9f7-3f38-4599-b477-0128e75ac5ca",
   "metadata": {
    "editable": true,
    "slideshow": {
     "slide_type": "skip"
    },
    "tags": []
   },
   "outputs": [],
   "source": [
    "df = df.drop(columns=['index_1'])"
   ]
  },
  {
   "cell_type": "markdown",
   "id": "edc9ea8c-bcad-4bf3-9b99-5a1a9580d604",
   "metadata": {
    "editable": true,
    "slideshow": {
     "slide_type": "skip"
    },
    "tags": []
   },
   "source": [
    "# drop the null values"
   ]
  },
  {
   "cell_type": "code",
   "execution_count": 93,
   "id": "0c395346-dbee-4035-9f32-05b24e6fbabc",
   "metadata": {
    "editable": true,
    "slideshow": {
     "slide_type": "skip"
    },
    "tags": []
   },
   "outputs": [],
   "source": [
    "# df = df.dropna()\n",
    "\n",
    "\n",
    "# pd.set_option('display.max_colwidth', None)  # Display full text in a column\n",
    "\n",
    "# for i,v in enumerate(df.columns):\n",
    "#     print(f' {i}, column: {v}')\n",
    "\n",
    "# df = df.iloc[:,[0,1,2,3,6,7,8,9,10]]\n",
    "\n",
    "# df"
   ]
  },
  {
   "cell_type": "markdown",
   "id": "c6ebbae6-429d-4bc9-937b-63bbd098da9a",
   "metadata": {
    "editable": true,
    "slideshow": {
     "slide_type": "slide"
    },
    "tags": []
   },
   "source": [
    "# SALAM EVERYONE 👋🏼"
   ]
  },
  {
   "cell_type": "markdown",
   "id": "da74ec53-ecb4-4686-9f8c-98b67d52471e",
   "metadata": {
    "editable": true,
    "slideshow": {
     "slide_type": "slide"
    },
    "tags": []
   },
   "source": [
    "# Question"
   ]
  },
  {
   "cell_type": "markdown",
   "id": "6c1500c4-c193-48a2-80ba-f0468b5f770e",
   "metadata": {
    "editable": true,
    "slideshow": {
     "slide_type": "slide"
    },
    "tags": []
   },
   "source": [
    "# What do we don't know the most as human beings? \n",
    "\n",
    "1. \tDark Matter & Dark Energy\n",
    "2.  The Limits of the Universe – Is it infinite? Does it have an edge?\n",
    "3.  The Deepest Parts of Our Own Ocean - did we discover the Ocean yet\n",
    "\n",
    "### Answer ? 🧐"
   ]
  },
  {
   "cell_type": "markdown",
   "id": "04cb9c91-1ddd-43bc-b90b-4ee741cb84f2",
   "metadata": {
    "editable": true,
    "slideshow": {
     "slide_type": "slide"
    },
    "tags": []
   },
   "source": [
    "# Wrong"
   ]
  },
  {
   "cell_type": "markdown",
   "id": "fabaf1c1-6e48-4366-8da0-2fecdf77a19d",
   "metadata": {
    "editable": true,
    "slideshow": {
     "slide_type": "slide"
    },
    "tags": []
   },
   "source": [
    "# 4. It's ourselves\n",
    "- do we know when to get mad ?\n",
    "- when not to get mad ?\n",
    "- when do we argue ?\n",
    "- when not to argue?\n",
    "- when to end relationships ?\n",
    "- how to end to relationships ?\n",
    "- etc ....\n"
   ]
  },
  {
   "cell_type": "markdown",
   "id": "ff395e58-2365-491e-aae6-e8be0eeaba55",
   "metadata": {
    "editable": true,
    "slideshow": {
     "slide_type": "slide"
    },
    "tags": []
   },
   "source": [
    "## So this suggests a need to discover ourselevs i guess, but what kind of resource shall we use ? \n",
    "- ### Aristotle\n",
    "- ### Nietzsche\n",
    "- ### Kant\n",
    "- ### Hegel"
   ]
  },
  {
   "cell_type": "markdown",
   "id": "660501b0-1325-431c-a989-def317d7044b",
   "metadata": {
    "editable": true,
    "jp-MarkdownHeadingCollapsed": true,
    "slideshow": {
     "slide_type": "slide"
    },
    "tags": []
   },
   "source": [
    "## These authors may be cool, but they are not what i seek to discover, there is something `stronger`, `more direct to the point`, and `it is a resource we can depend on` to `seek success` in both in `this life` and `the afterlife`"
   ]
  },
  {
   "cell_type": "markdown",
   "id": "6fc9df9c-5740-4e0c-838c-83e57d2b62ee",
   "metadata": {
    "editable": true,
    "slideshow": {
     "slide_type": "slide"
    },
    "tags": []
   },
   "source": [
    "# The Holy Quran"
   ]
  },
  {
   "cell_type": "markdown",
   "id": "09316cc0-190c-46f2-a4cc-fb01430e3d78",
   "metadata": {
    "editable": true,
    "slideshow": {
     "slide_type": "subslide"
    },
    "tags": []
   },
   "source": [
    "<img src=\"./quran-2.jpg\">"
   ]
  },
  {
   "attachments": {},
   "cell_type": "markdown",
   "id": "3eadc4b3-f4b8-4476-83db-72944b900cdc",
   "metadata": {
    "editable": true,
    "slideshow": {
     "slide_type": "slide"
    },
    "tags": []
   },
   "source": [
    "# إِنَّ هَٰذَا ٱلْقُرْءَانَ يَهْدِى لِلَّتِى هِىَ أَقْوَمُ وَيُبَشِّرُ ٱلْمُؤْمِنِينَ ٱلَّذِينَ يَعْمَلُونَ ٱلصَّٰلِحَٰتِ أَنَّ لَهُمْ أَجْرًۭا كَبِيرًۭا\n",
    "\n",
    "# Surely this Quran guides to what is most upright, and gives good news to the believers—who do good—that they will have a mighty reward."
   ]
  },
  {
   "cell_type": "markdown",
   "id": "21520ffc-5efa-4298-a7bd-f6a1ec204b91",
   "metadata": {
    "editable": true,
    "slideshow": {
     "slide_type": "slide"
    },
    "tags": []
   },
   "source": [
    "# The quran helps in giving us a sense of direction in this life"
   ]
  },
  {
   "cell_type": "markdown",
   "id": "e400e225-2187-42d4-8038-fd37c4b2bbdb",
   "metadata": {
    "editable": true,
    "slideshow": {
     "slide_type": "slide"
    },
    "tags": []
   },
   "source": [
    "# what kind of insights we can get from the quran.csv ? \n",
    "- link to the dataset: https://www.kaggle.com/datasets/imrankhan197/the-quran-dataset\n",
    "- another resource to look at: https://www.youtube.com/watch?v=isB1YweHPGw\n",
    "- A good podcast: https://www.youtube.com/watch?v=Pfj4niPP0DY&t=9889s"
   ]
  },
  {
   "cell_type": "code",
   "execution_count": 94,
   "id": "f653a8a5-c74c-4d0c-bc33-c3514db04703",
   "metadata": {
    "editable": true,
    "slideshow": {
     "slide_type": "skip"
    },
    "tags": []
   },
   "outputs": [],
   "source": [
    "df = pd.read_csv('The Quran Dataset.csv')"
   ]
  },
  {
   "cell_type": "code",
   "execution_count": 105,
   "id": "a6ad17a4-2640-4883-81ae-f8f20fced2d1",
   "metadata": {},
   "outputs": [
    {
     "data": {
      "text/html": [
       "<div>\n",
       "<style scoped>\n",
       "    .dataframe tbody tr th:only-of-type {\n",
       "        vertical-align: middle;\n",
       "    }\n",
       "\n",
       "    .dataframe tbody tr th {\n",
       "        vertical-align: top;\n",
       "    }\n",
       "\n",
       "    .dataframe thead th {\n",
       "        text-align: right;\n",
       "    }\n",
       "</style>\n",
       "<table border=\"1\" class=\"dataframe\">\n",
       "  <thead>\n",
       "    <tr style=\"text-align: right;\">\n",
       "      <th></th>\n",
       "      <th>surah_no</th>\n",
       "      <th>surah_name_en</th>\n",
       "      <th>surah_name_ar</th>\n",
       "      <th>surah_name_roman</th>\n",
       "      <th>ayah_no_surah</th>\n",
       "      <th>ayah_no_quran</th>\n",
       "      <th>ayah_ar</th>\n",
       "      <th>ayah_en</th>\n",
       "      <th>ruko_no</th>\n",
       "      <th>juz_no</th>\n",
       "      <th>manzil_no</th>\n",
       "      <th>hizb_quarter</th>\n",
       "      <th>total_ayah_surah</th>\n",
       "      <th>total_ayah_quran</th>\n",
       "      <th>place_of_revelation</th>\n",
       "      <th>sajdah_ayah</th>\n",
       "      <th>sajdah_no</th>\n",
       "      <th>no_of_word_ayah</th>\n",
       "      <th>list_of_words</th>\n",
       "    </tr>\n",
       "  </thead>\n",
       "  <tbody>\n",
       "    <tr>\n",
       "      <th>0</th>\n",
       "      <td>1</td>\n",
       "      <td>The Opener</td>\n",
       "      <td>الفاتحة</td>\n",
       "      <td>Al-Fatihah</td>\n",
       "      <td>1</td>\n",
       "      <td>1</td>\n",
       "      <td>بِسْمِ ٱللَّهِ ٱلرَّحْمَٰنِ ٱلرَّحِيمِ</td>\n",
       "      <td>In the Name of Allah—the Most Compassionate, Most Merciful.</td>\n",
       "      <td>1</td>\n",
       "      <td>1</td>\n",
       "      <td>1</td>\n",
       "      <td>1</td>\n",
       "      <td>7</td>\n",
       "      <td>6236</td>\n",
       "      <td>Meccan</td>\n",
       "      <td>False</td>\n",
       "      <td>NaN</td>\n",
       "      <td>4</td>\n",
       "      <td>[بِسْمِ,ٱللَّهِ,ٱلرَّحْمَٰنِ,ٱلرَّحِيمِ]</td>\n",
       "    </tr>\n",
       "    <tr>\n",
       "      <th>1</th>\n",
       "      <td>1</td>\n",
       "      <td>The Opener</td>\n",
       "      <td>الفاتحة</td>\n",
       "      <td>Al-Fatihah</td>\n",
       "      <td>2</td>\n",
       "      <td>2</td>\n",
       "      <td>ٱلْحَمْدُ لِلَّهِ رَبِّ ٱلْعَٰلَمِينَ</td>\n",
       "      <td>All praise is for Allah—Lord of all worlds,</td>\n",
       "      <td>1</td>\n",
       "      <td>1</td>\n",
       "      <td>1</td>\n",
       "      <td>1</td>\n",
       "      <td>7</td>\n",
       "      <td>6236</td>\n",
       "      <td>Meccan</td>\n",
       "      <td>False</td>\n",
       "      <td>NaN</td>\n",
       "      <td>4</td>\n",
       "      <td>[ٱلْحَمْدُ,لِلَّهِ,رَبِّ,ٱلْعَٰلَمِينَ]</td>\n",
       "    </tr>\n",
       "    <tr>\n",
       "      <th>2</th>\n",
       "      <td>1</td>\n",
       "      <td>The Opener</td>\n",
       "      <td>الفاتحة</td>\n",
       "      <td>Al-Fatihah</td>\n",
       "      <td>3</td>\n",
       "      <td>3</td>\n",
       "      <td>ٱلرَّحْمَٰنِ ٱلرَّحِيمِ</td>\n",
       "      <td>the Most Compassionate, Most Merciful,</td>\n",
       "      <td>1</td>\n",
       "      <td>1</td>\n",
       "      <td>1</td>\n",
       "      <td>1</td>\n",
       "      <td>7</td>\n",
       "      <td>6236</td>\n",
       "      <td>Meccan</td>\n",
       "      <td>False</td>\n",
       "      <td>NaN</td>\n",
       "      <td>2</td>\n",
       "      <td>[ٱلرَّحْمَٰنِ,ٱلرَّحِيمِ]</td>\n",
       "    </tr>\n",
       "    <tr>\n",
       "      <th>3</th>\n",
       "      <td>1</td>\n",
       "      <td>The Opener</td>\n",
       "      <td>الفاتحة</td>\n",
       "      <td>Al-Fatihah</td>\n",
       "      <td>4</td>\n",
       "      <td>4</td>\n",
       "      <td>مَٰلِكِ يَوْمِ ٱلدِّينِ</td>\n",
       "      <td>Master of the Day of Judgment.</td>\n",
       "      <td>1</td>\n",
       "      <td>1</td>\n",
       "      <td>1</td>\n",
       "      <td>1</td>\n",
       "      <td>7</td>\n",
       "      <td>6236</td>\n",
       "      <td>Meccan</td>\n",
       "      <td>False</td>\n",
       "      <td>NaN</td>\n",
       "      <td>3</td>\n",
       "      <td>[مَٰلِكِ,يَوْمِ,ٱلدِّينِ]</td>\n",
       "    </tr>\n",
       "    <tr>\n",
       "      <th>4</th>\n",
       "      <td>1</td>\n",
       "      <td>The Opener</td>\n",
       "      <td>الفاتحة</td>\n",
       "      <td>Al-Fatihah</td>\n",
       "      <td>5</td>\n",
       "      <td>5</td>\n",
       "      <td>إِيَّاكَ نَعْبُدُ وَإِيَّاكَ نَسْتَعِينُ</td>\n",
       "      <td>You ˹alone˺ we worship and You ˹alone˺ we ask for help.</td>\n",
       "      <td>1</td>\n",
       "      <td>1</td>\n",
       "      <td>1</td>\n",
       "      <td>1</td>\n",
       "      <td>7</td>\n",
       "      <td>6236</td>\n",
       "      <td>Meccan</td>\n",
       "      <td>False</td>\n",
       "      <td>NaN</td>\n",
       "      <td>4</td>\n",
       "      <td>[إِيَّاكَ,نَعْبُدُ,وَإِيَّاكَ,نَسْتَعِينُ]</td>\n",
       "    </tr>\n",
       "    <tr>\n",
       "      <th>...</th>\n",
       "      <td>...</td>\n",
       "      <td>...</td>\n",
       "      <td>...</td>\n",
       "      <td>...</td>\n",
       "      <td>...</td>\n",
       "      <td>...</td>\n",
       "      <td>...</td>\n",
       "      <td>...</td>\n",
       "      <td>...</td>\n",
       "      <td>...</td>\n",
       "      <td>...</td>\n",
       "      <td>...</td>\n",
       "      <td>...</td>\n",
       "      <td>...</td>\n",
       "      <td>...</td>\n",
       "      <td>...</td>\n",
       "      <td>...</td>\n",
       "      <td>...</td>\n",
       "      <td>...</td>\n",
       "    </tr>\n",
       "    <tr>\n",
       "      <th>6231</th>\n",
       "      <td>114</td>\n",
       "      <td>The Mankind</td>\n",
       "      <td>الناس</td>\n",
       "      <td>An-Nas</td>\n",
       "      <td>2</td>\n",
       "      <td>6232</td>\n",
       "      <td>مَلِكِ ٱلنَّاسِ</td>\n",
       "      <td>the Master of humankind,</td>\n",
       "      <td>556</td>\n",
       "      <td>30</td>\n",
       "      <td>7</td>\n",
       "      <td>240</td>\n",
       "      <td>6</td>\n",
       "      <td>6236</td>\n",
       "      <td>Meccan</td>\n",
       "      <td>False</td>\n",
       "      <td>NaN</td>\n",
       "      <td>2</td>\n",
       "      <td>[مَلِكِ,ٱلنَّاسِ]</td>\n",
       "    </tr>\n",
       "    <tr>\n",
       "      <th>6232</th>\n",
       "      <td>114</td>\n",
       "      <td>The Mankind</td>\n",
       "      <td>الناس</td>\n",
       "      <td>An-Nas</td>\n",
       "      <td>3</td>\n",
       "      <td>6233</td>\n",
       "      <td>إِلَٰهِ ٱلنَّاسِ</td>\n",
       "      <td>the God of humankind,</td>\n",
       "      <td>556</td>\n",
       "      <td>30</td>\n",
       "      <td>7</td>\n",
       "      <td>240</td>\n",
       "      <td>6</td>\n",
       "      <td>6236</td>\n",
       "      <td>Meccan</td>\n",
       "      <td>False</td>\n",
       "      <td>NaN</td>\n",
       "      <td>2</td>\n",
       "      <td>[إِلَٰهِ,ٱلنَّاسِ]</td>\n",
       "    </tr>\n",
       "    <tr>\n",
       "      <th>6233</th>\n",
       "      <td>114</td>\n",
       "      <td>The Mankind</td>\n",
       "      <td>الناس</td>\n",
       "      <td>An-Nas</td>\n",
       "      <td>4</td>\n",
       "      <td>6234</td>\n",
       "      <td>مِن شَرِّ ٱلْوَسْوَاسِ ٱلْخَنَّاسِ</td>\n",
       "      <td>from the evil of the lurking whisperer—</td>\n",
       "      <td>556</td>\n",
       "      <td>30</td>\n",
       "      <td>7</td>\n",
       "      <td>240</td>\n",
       "      <td>6</td>\n",
       "      <td>6236</td>\n",
       "      <td>Meccan</td>\n",
       "      <td>False</td>\n",
       "      <td>NaN</td>\n",
       "      <td>4</td>\n",
       "      <td>[مِن,شَرِّ,ٱلْوَسْوَاسِ,ٱلْخَنَّاسِ]</td>\n",
       "    </tr>\n",
       "    <tr>\n",
       "      <th>6234</th>\n",
       "      <td>114</td>\n",
       "      <td>The Mankind</td>\n",
       "      <td>الناس</td>\n",
       "      <td>An-Nas</td>\n",
       "      <td>5</td>\n",
       "      <td>6235</td>\n",
       "      <td>ٱلَّذِى يُوَسْوِسُ فِى صُدُورِ ٱلنَّاسِ</td>\n",
       "      <td>who whispers into the hearts of humankind—</td>\n",
       "      <td>556</td>\n",
       "      <td>30</td>\n",
       "      <td>7</td>\n",
       "      <td>240</td>\n",
       "      <td>6</td>\n",
       "      <td>6236</td>\n",
       "      <td>Meccan</td>\n",
       "      <td>False</td>\n",
       "      <td>NaN</td>\n",
       "      <td>5</td>\n",
       "      <td>[ٱلَّذِى,يُوَسْوِسُ,فِى,صُدُورِ,ٱلنَّاسِ]</td>\n",
       "    </tr>\n",
       "    <tr>\n",
       "      <th>6235</th>\n",
       "      <td>114</td>\n",
       "      <td>The Mankind</td>\n",
       "      <td>الناس</td>\n",
       "      <td>An-Nas</td>\n",
       "      <td>6</td>\n",
       "      <td>6236</td>\n",
       "      <td>مِنَ ٱلْجِنَّةِ وَٱلنَّاسِ</td>\n",
       "      <td>from among jinn and humankind.”</td>\n",
       "      <td>556</td>\n",
       "      <td>30</td>\n",
       "      <td>7</td>\n",
       "      <td>240</td>\n",
       "      <td>6</td>\n",
       "      <td>6236</td>\n",
       "      <td>Meccan</td>\n",
       "      <td>False</td>\n",
       "      <td>NaN</td>\n",
       "      <td>5</td>\n",
       "      <td>[ٱلَّذِى,يُوَسْوِسُ,فِى,صُدُورِ,ٱلنَّاسِ]</td>\n",
       "    </tr>\n",
       "  </tbody>\n",
       "</table>\n",
       "<p>6236 rows × 19 columns</p>\n",
       "</div>"
      ],
      "text/plain": [
       "      surah_no surah_name_en surah_name_ar surah_name_roman  ayah_no_surah  \\\n",
       "0            1    The Opener       الفاتحة       Al-Fatihah              1   \n",
       "1            1    The Opener       الفاتحة       Al-Fatihah              2   \n",
       "2            1    The Opener       الفاتحة       Al-Fatihah              3   \n",
       "3            1    The Opener       الفاتحة       Al-Fatihah              4   \n",
       "4            1    The Opener       الفاتحة       Al-Fatihah              5   \n",
       "...        ...           ...           ...              ...            ...   \n",
       "6231       114   The Mankind         الناس           An-Nas              2   \n",
       "6232       114   The Mankind         الناس           An-Nas              3   \n",
       "6233       114   The Mankind         الناس           An-Nas              4   \n",
       "6234       114   The Mankind         الناس           An-Nas              5   \n",
       "6235       114   The Mankind         الناس           An-Nas              6   \n",
       "\n",
       "      ayah_no_quran                                   ayah_ar  \\\n",
       "0                 1    بِسْمِ ٱللَّهِ ٱلرَّحْمَٰنِ ٱلرَّحِيمِ   \n",
       "1                 2     ٱلْحَمْدُ لِلَّهِ رَبِّ ٱلْعَٰلَمِينَ   \n",
       "2                 3                   ٱلرَّحْمَٰنِ ٱلرَّحِيمِ   \n",
       "3                 4                   مَٰلِكِ يَوْمِ ٱلدِّينِ   \n",
       "4                 5  إِيَّاكَ نَعْبُدُ وَإِيَّاكَ نَسْتَعِينُ   \n",
       "...             ...                                       ...   \n",
       "6231           6232                           مَلِكِ ٱلنَّاسِ   \n",
       "6232           6233                          إِلَٰهِ ٱلنَّاسِ   \n",
       "6233           6234        مِن شَرِّ ٱلْوَسْوَاسِ ٱلْخَنَّاسِ   \n",
       "6234           6235   ٱلَّذِى يُوَسْوِسُ فِى صُدُورِ ٱلنَّاسِ   \n",
       "6235           6236                مِنَ ٱلْجِنَّةِ وَٱلنَّاسِ   \n",
       "\n",
       "                                                          ayah_en  ruko_no  \\\n",
       "0     In the Name of Allah—the Most Compassionate, Most Merciful.        1   \n",
       "1                     All praise is for Allah—Lord of all worlds,        1   \n",
       "2                          the Most Compassionate, Most Merciful,        1   \n",
       "3                                  Master of the Day of Judgment.        1   \n",
       "4         You ˹alone˺ we worship and You ˹alone˺ we ask for help.        1   \n",
       "...                                                           ...      ...   \n",
       "6231                                     the Master of humankind,      556   \n",
       "6232                                        the God of humankind,      556   \n",
       "6233                      from the evil of the lurking whisperer—      556   \n",
       "6234                   who whispers into the hearts of humankind—      556   \n",
       "6235                              from among jinn and humankind.”      556   \n",
       "\n",
       "      juz_no  manzil_no  hizb_quarter  total_ayah_surah  total_ayah_quran  \\\n",
       "0          1          1             1                 7              6236   \n",
       "1          1          1             1                 7              6236   \n",
       "2          1          1             1                 7              6236   \n",
       "3          1          1             1                 7              6236   \n",
       "4          1          1             1                 7              6236   \n",
       "...      ...        ...           ...               ...               ...   \n",
       "6231      30          7           240                 6              6236   \n",
       "6232      30          7           240                 6              6236   \n",
       "6233      30          7           240                 6              6236   \n",
       "6234      30          7           240                 6              6236   \n",
       "6235      30          7           240                 6              6236   \n",
       "\n",
       "     place_of_revelation  sajdah_ayah  sajdah_no  no_of_word_ayah  \\\n",
       "0                 Meccan        False        NaN                4   \n",
       "1                 Meccan        False        NaN                4   \n",
       "2                 Meccan        False        NaN                2   \n",
       "3                 Meccan        False        NaN                3   \n",
       "4                 Meccan        False        NaN                4   \n",
       "...                  ...          ...        ...              ...   \n",
       "6231              Meccan        False        NaN                2   \n",
       "6232              Meccan        False        NaN                2   \n",
       "6233              Meccan        False        NaN                4   \n",
       "6234              Meccan        False        NaN                5   \n",
       "6235              Meccan        False        NaN                5   \n",
       "\n",
       "                                   list_of_words  \n",
       "0       [بِسْمِ,ٱللَّهِ,ٱلرَّحْمَٰنِ,ٱلرَّحِيمِ]  \n",
       "1        [ٱلْحَمْدُ,لِلَّهِ,رَبِّ,ٱلْعَٰلَمِينَ]  \n",
       "2                      [ٱلرَّحْمَٰنِ,ٱلرَّحِيمِ]  \n",
       "3                      [مَٰلِكِ,يَوْمِ,ٱلدِّينِ]  \n",
       "4     [إِيَّاكَ,نَعْبُدُ,وَإِيَّاكَ,نَسْتَعِينُ]  \n",
       "...                                          ...  \n",
       "6231                           [مَلِكِ,ٱلنَّاسِ]  \n",
       "6232                          [إِلَٰهِ,ٱلنَّاسِ]  \n",
       "6233        [مِن,شَرِّ,ٱلْوَسْوَاسِ,ٱلْخَنَّاسِ]  \n",
       "6234   [ٱلَّذِى,يُوَسْوِسُ,فِى,صُدُورِ,ٱلنَّاسِ]  \n",
       "6235   [ٱلَّذِى,يُوَسْوِسُ,فِى,صُدُورِ,ٱلنَّاسِ]  \n",
       "\n",
       "[6236 rows x 19 columns]"
      ]
     },
     "execution_count": 105,
     "metadata": {},
     "output_type": "execute_result"
    }
   ],
   "source": [
    "df"
   ]
  },
  {
   "cell_type": "code",
   "execution_count": 95,
   "id": "01e69720-c85c-4f98-ac53-7a41806bd4d3",
   "metadata": {
    "editable": true,
    "slideshow": {
     "slide_type": "skip"
    },
    "tags": []
   },
   "outputs": [
    {
     "data": {
      "text/html": [
       "<div>\n",
       "<style scoped>\n",
       "    .dataframe tbody tr th:only-of-type {\n",
       "        vertical-align: middle;\n",
       "    }\n",
       "\n",
       "    .dataframe tbody tr th {\n",
       "        vertical-align: top;\n",
       "    }\n",
       "\n",
       "    .dataframe thead th {\n",
       "        text-align: right;\n",
       "    }\n",
       "</style>\n",
       "<table border=\"1\" class=\"dataframe\">\n",
       "  <thead>\n",
       "    <tr style=\"text-align: right;\">\n",
       "      <th></th>\n",
       "      <th>surah_no</th>\n",
       "      <th>surah_name_en</th>\n",
       "      <th>surah_name_ar</th>\n",
       "      <th>surah_name_roman</th>\n",
       "      <th>ayah_no_surah</th>\n",
       "      <th>ayah_no_quran</th>\n",
       "      <th>ayah_ar</th>\n",
       "      <th>ayah_en</th>\n",
       "      <th>ruko_no</th>\n",
       "      <th>juz_no</th>\n",
       "      <th>manzil_no</th>\n",
       "      <th>hizb_quarter</th>\n",
       "      <th>total_ayah_surah</th>\n",
       "      <th>total_ayah_quran</th>\n",
       "      <th>place_of_revelation</th>\n",
       "      <th>sajah_ayah</th>\n",
       "      <th>sajdah_no</th>\n",
       "      <th>no_of_word_ayah</th>\n",
       "      <th>list_of_words</th>\n",
       "    </tr>\n",
       "  </thead>\n",
       "  <tbody>\n",
       "    <tr>\n",
       "      <th>2037</th>\n",
       "      <td>17</td>\n",
       "      <td>The Night Journey</td>\n",
       "      <td>الإسراء</td>\n",
       "      <td>Al-Isra</td>\n",
       "      <td>9</td>\n",
       "      <td>2038</td>\n",
       "      <td>إِنَّ هَٰذَا ٱلْقُرْءَانَ يَهْدِى لِلَّتِى هِىَ أَقْوَمُ وَيُبَشِّرُ ٱلْمُؤْمِنِينَ ٱلَّذِينَ يَعْمَلُونَ ٱلصَّٰلِحَٰتِ أَنَّ لَهُمْ أَجْرًۭا كَبِيرًۭا</td>\n",
       "      <td>Surely this Quran guides to what is most upright, and gives good news to the believers—who do good—that they will have a mighty reward.</td>\n",
       "      <td>240</td>\n",
       "      <td>15</td>\n",
       "      <td>4</td>\n",
       "      <td>113</td>\n",
       "      <td>111</td>\n",
       "      <td>6236</td>\n",
       "      <td>Meccan</td>\n",
       "      <td>False</td>\n",
       "      <td>NaN</td>\n",
       "      <td>16</td>\n",
       "      <td>[إِنَّ,هَٰذَا,ٱلْقُرْءَانَ,يَهْدِى,لِلَّتِى,هِىَ,أَقْوَمُ,وَيُبَشِّرُ,ٱلْمُؤْمِنِينَ,ٱلَّذِينَ,يَعْمَلُونَ,ٱلصَّٰلِحَٰتِ,أَنَّ,لَهُمْ,أَجْرًۭا,كَبِيرًۭا]</td>\n",
       "    </tr>\n",
       "  </tbody>\n",
       "</table>\n",
       "</div>"
      ],
      "text/plain": [
       "      surah_no      surah_name_en surah_name_ar surah_name_roman  \\\n",
       "2037        17  The Night Journey       الإسراء          Al-Isra   \n",
       "\n",
       "      ayah_no_surah  ayah_no_quran  \\\n",
       "2037              9           2038   \n",
       "\n",
       "                                                                                                                                                      ayah_ar  \\\n",
       "2037  إِنَّ هَٰذَا ٱلْقُرْءَانَ يَهْدِى لِلَّتِى هِىَ أَقْوَمُ وَيُبَشِّرُ ٱلْمُؤْمِنِينَ ٱلَّذِينَ يَعْمَلُونَ ٱلصَّٰلِحَٰتِ أَنَّ لَهُمْ أَجْرًۭا كَبِيرًۭا   \n",
       "\n",
       "                                                                                                                                      ayah_en  \\\n",
       "2037  Surely this Quran guides to what is most upright, and gives good news to the believers—who do good—that they will have a mighty reward.   \n",
       "\n",
       "      ruko_no  juz_no  manzil_no  hizb_quarter  total_ayah_surah  \\\n",
       "2037      240      15          4           113               111   \n",
       "\n",
       "      total_ayah_quran place_of_revelation  sajah_ayah  sajdah_no  \\\n",
       "2037              6236              Meccan       False        NaN   \n",
       "\n",
       "      no_of_word_ayah  \\\n",
       "2037               16   \n",
       "\n",
       "                                                                                                                                                  list_of_words  \n",
       "2037  [إِنَّ,هَٰذَا,ٱلْقُرْءَانَ,يَهْدِى,لِلَّتِى,هِىَ,أَقْوَمُ,وَيُبَشِّرُ,ٱلْمُؤْمِنِينَ,ٱلَّذِينَ,يَعْمَلُونَ,ٱلصَّٰلِحَٰتِ,أَنَّ,لَهُمْ,أَجْرًۭا,كَبِيرًۭا]  "
      ]
     },
     "execution_count": 95,
     "metadata": {},
     "output_type": "execute_result"
    }
   ],
   "source": [
    "f = df['surah_no'] == 17 \n",
    "f1 = df['ayah_no_surah'] == 9\n",
    "df[f&f1]"
   ]
  },
  {
   "cell_type": "code",
   "execution_count": 96,
   "id": "d1c691a1-8a32-4524-834c-9640113ba732",
   "metadata": {
    "editable": true,
    "slideshow": {
     "slide_type": "skip"
    },
    "tags": []
   },
   "outputs": [],
   "source": [
    "df.rename(columns={'sajah_ayah':'sajdah_ayah'},inplace=True)"
   ]
  },
  {
   "cell_type": "markdown",
   "id": "10c54cde-dc2e-4bc6-a955-74b909e4b939",
   "metadata": {
    "editable": true,
    "slideshow": {
     "slide_type": "slide"
    },
    "tags": []
   },
   "source": [
    "# as we see the dataframe we can see, that we can work with the holy quran, using our analytical skills"
   ]
  },
  {
   "cell_type": "markdown",
   "id": "d5801385-0eca-4911-ac3f-2d4521ae075b",
   "metadata": {
    "editable": true,
    "jp-MarkdownHeadingCollapsed": true,
    "slideshow": {
     "slide_type": "slide"
    },
    "tags": []
   },
   "source": [
    "# what i seek to Answer OR to Explore ? \n",
    "\n",
    "- ### what is the bad attributes a human is born with ? and what is their opposite \"the good attributes\"?\n",
    "- ### what is the main topics in the holy quran ?\n",
    "\n",
    "\t1.  Religion and Spirituality\n",
    "\t2.\tSociety and Justice\n",
    "\t3.\tGovernance and Politics\n",
    "\t4.\t`Human Nature and Psychology`\n",
    "\t5.\t`Science and Creation`\n",
    "\n",
    "- ### How does the Quran address the `purpose of human life and existence`?\n",
    "- ### How does the Quran relate to previous scriptures{ holy books } and prophets?\n",
    "- ### `What role does the Quran assign to knowledge, reason, and reflection?`\n",
    "- ### How does the Quran approach `social issues` like family, charity, and human rights?"
   ]
  },
  {
   "cell_type": "markdown",
   "id": "69b9d6c2-1cb0-4eab-ab0c-1537575fae1d",
   "metadata": {
    "editable": true,
    "jp-MarkdownHeadingCollapsed": true,
    "slideshow": {
     "slide_type": "slide"
    },
    "tags": []
   },
   "source": [
    "# WE are going to `school -> university ->  Masters -> PHD`.\n",
    "\n",
    "## BUT we are never taught how to deal with our problems, mentioned above. \n",
    "\n",
    "1. ### These problems, if not addressed well, can leave a huge impact on ourselves, affecting our mental well-being, relationships, and overall quality of life.\n",
    "2. ### Which usually leads to depression, resentment, and a feeling of helplessness, making it harder to find motivation or joy in daily activities.\n"
   ]
  },
  {
   "cell_type": "markdown",
   "id": "c4b4f347-545c-495b-a6fe-9a3d360e0db7",
   "metadata": {
    "editable": true,
    "jp-MarkdownHeadingCollapsed": true,
    "slideshow": {
     "slide_type": "slide"
    },
    "tags": []
   },
   "source": [
    "# Dear Ali, but Education does help increase our knowledge which helps us understand ourselves and eliminate all the problems you have just discussed, what will the `HOLY Quran` provide to us ? "
   ]
  },
  {
   "cell_type": "markdown",
   "id": "52e14096-e2b8-43d3-95b7-193f2b93db38",
   "metadata": {
    "editable": true,
    "slideshow": {
     "slide_type": "slide"
    },
    "tags": []
   },
   "source": [
    "# Awareness - but why is it needed ? "
   ]
  },
  {
   "cell_type": "markdown",
   "id": "9c2c8ead-090e-4c01-bbd9-98b6aff075a1",
   "metadata": {
    "editable": true,
    "slideshow": {
     "slide_type": "slide"
    },
    "tags": []
   },
   "source": [
    "# Who made the `Nuclear BOMB ?` isn't he `Smart` ? \n",
    "# Who made the `Banned weapons ?` `aren't they Smart? `"
   ]
  },
  {
   "cell_type": "markdown",
   "id": "4d85f70a-6a85-4fad-a19a-175e5fe80c8d",
   "metadata": {
    "editable": true,
    "slideshow": {
     "slide_type": "slide"
    },
    "tags": []
   },
   "source": [
    "# The `Holy quran` provides us with `Awareness` which teachs us how to use the knowledge we gain."
   ]
  },
  {
   "cell_type": "markdown",
   "id": "2d5582e3-5e81-4d82-bed3-4d71c4fd6e75",
   "metadata": {
    "editable": true,
    "slideshow": {
     "slide_type": "slide"
    },
    "tags": []
   },
   "source": [
    "# CURRENT EDA"
   ]
  },
  {
   "cell_type": "code",
   "execution_count": 97,
   "id": "cbd6c1c4-005e-4b26-8f44-135e91e2517d",
   "metadata": {
    "editable": true,
    "jupyter": {
     "source_hidden": true
    },
    "slideshow": {
     "slide_type": "slide"
    },
    "tags": []
   },
   "outputs": [
    {
     "data": {
      "text/plain": [
       "Text(0.5, 1.0, 'Top 5 surahs in terms of Ayat')"
      ]
     },
     "execution_count": 97,
     "metadata": {},
     "output_type": "execute_result"
    },
    {
     "data": {
      "image/png": "[encoded data removed]",
      "text/plain": [
       "<Figure size 640x480 with 1 Axes>"
      ]
     },
     "metadata": {},
     "output_type": "display_data"
    }
   ],
   "source": [
    "\n",
    "# Group by Surah and count the number of Ayahs per Surah\n",
    "df.groupby(\"surah_name_en\")[\"ayah_no_surah\"].count().sort_values(ascending=False).head(10).plot(kind='barh')\n",
    "plt.title('Top 5 surahs in terms of Ayat')\n",
    "#"
   ]
  },
  {
   "cell_type": "code",
   "execution_count": 98,
   "id": "53810182-7bd4-4b20-ae55-ef99decf6fe5",
   "metadata": {
    "editable": true,
    "jupyter": {
     "source_hidden": true
    },
    "slideshow": {
     "slide_type": "slide"
    },
    "tags": []
   },
   "outputs": [
    {
     "data": {
      "image/png": "[encoded data removed]",
      "text/plain": [
       "<Figure size 1000x600 with 1 Axes>"
      ]
     },
     "metadata": {},
     "output_type": "display_data"
    }
   ],
   "source": [
    "\n",
    "# Group by Surah and count the number of Ayahs per Surah\n",
    "top_surahs = df.groupby(\"surah_name_ar\")[\"ayah_no_surah\"].count().sort_values(ascending=False).head(10)\n",
    "\n",
    "# Apply reshaping and bidirectional correction\n",
    "fixed_labels = [get_display(arabic_reshaper.reshape(name)) for name in top_surahs.index]\n",
    "\n",
    "# Plot the bar chart\n",
    "plt.figure(figsize=(10, 6))\n",
    "top_surahs.plot(kind='barh')\n",
    "\n",
    "# Set correct Arabic labels\n",
    "plt.yticks(ticks=range(len(fixed_labels)), labels=fixed_labels);"
   ]
  },
  {
   "cell_type": "code",
   "execution_count": 99,
   "id": "6cbccc81-b899-48b7-8332-948c6783e9ff",
   "metadata": {
    "editable": true,
    "slideshow": {
     "slide_type": "skip"
    },
    "tags": []
   },
   "outputs": [
    {
     "data": {
      "text/html": [
       "<div>\n",
       "<style scoped>\n",
       "    .dataframe tbody tr th:only-of-type {\n",
       "        vertical-align: middle;\n",
       "    }\n",
       "\n",
       "    .dataframe tbody tr th {\n",
       "        vertical-align: top;\n",
       "    }\n",
       "\n",
       "    .dataframe thead th {\n",
       "        text-align: right;\n",
       "    }\n",
       "</style>\n",
       "<table border=\"1\" class=\"dataframe\">\n",
       "  <thead>\n",
       "    <tr style=\"text-align: right;\">\n",
       "      <th></th>\n",
       "      <th>surah_no</th>\n",
       "      <th>surah_name_en</th>\n",
       "      <th>surah_name_ar</th>\n",
       "      <th>surah_name_roman</th>\n",
       "      <th>ayah_no_surah</th>\n",
       "      <th>ayah_no_quran</th>\n",
       "      <th>ayah_ar</th>\n",
       "      <th>ayah_en</th>\n",
       "      <th>ruko_no</th>\n",
       "      <th>juz_no</th>\n",
       "      <th>manzil_no</th>\n",
       "      <th>hizb_quarter</th>\n",
       "      <th>total_ayah_surah</th>\n",
       "      <th>total_ayah_quran</th>\n",
       "      <th>place_of_revelation</th>\n",
       "      <th>sajdah_ayah</th>\n",
       "      <th>sajdah_no</th>\n",
       "      <th>no_of_word_ayah</th>\n",
       "      <th>list_of_words</th>\n",
       "    </tr>\n",
       "  </thead>\n",
       "  <tbody>\n",
       "    <tr>\n",
       "      <th>3788</th>\n",
       "      <td>37</td>\n",
       "      <td>Those who set the Ranks</td>\n",
       "      <td>الصافات</td>\n",
       "      <td>As-Saffat</td>\n",
       "      <td>1</td>\n",
       "      <td>3789</td>\n",
       "      <td>وَٱلصَّٰٓفَّٰتِ صَفًّۭا</td>\n",
       "      <td>By those ˹angels˺ lined up in ranks,</td>\n",
       "      <td>386</td>\n",
       "      <td>23</td>\n",
       "      <td>6</td>\n",
       "      <td>178</td>\n",
       "      <td>182</td>\n",
       "      <td>6236</td>\n",
       "      <td>Meccan</td>\n",
       "      <td>False</td>\n",
       "      <td>NaN</td>\n",
       "      <td>2</td>\n",
       "      <td>[وَٱلصَّٰٓفَّٰتِ,صَفًّۭا]</td>\n",
       "    </tr>\n",
       "  </tbody>\n",
       "</table>\n",
       "</div>"
      ],
      "text/plain": [
       "      surah_no            surah_name_en surah_name_ar surah_name_roman  \\\n",
       "3788        37  Those who set the Ranks       الصافات        As-Saffat   \n",
       "\n",
       "      ayah_no_surah  ayah_no_quran                  ayah_ar  \\\n",
       "3788              1           3789  وَٱلصَّٰٓفَّٰتِ صَفًّۭا   \n",
       "\n",
       "                                   ayah_en  ruko_no  juz_no  manzil_no  \\\n",
       "3788  By those ˹angels˺ lined up in ranks,      386      23          6   \n",
       "\n",
       "      hizb_quarter  total_ayah_surah  total_ayah_quran place_of_revelation  \\\n",
       "3788           178               182              6236              Meccan   \n",
       "\n",
       "      sajdah_ayah  sajdah_no  no_of_word_ayah              list_of_words  \n",
       "3788        False        NaN                2  [وَٱلصَّٰٓفَّٰتِ,صَفًّۭا]  "
      ]
     },
     "execution_count": 99,
     "metadata": {},
     "output_type": "execute_result"
    }
   ],
   "source": [
    "f= df['surah_name_en'] == 'Those who set the Ranks' # الصافات\n",
    "df[f].iloc[[0],:]"
   ]
  },
  {
   "cell_type": "code",
   "execution_count": 100,
   "id": "eceb7130-d99f-4541-b6a4-60ca58f44a4a",
   "metadata": {
    "editable": true,
    "jupyter": {
     "source_hidden": true
    },
    "slideshow": {
     "slide_type": "slide"
    },
    "tags": []
   },
   "outputs": [
    {
     "data": {
      "image/png": "[encoded data removed]",
      "text/plain": [
       "<Figure size 800x500 with 1 Axes>"
      ]
     },
     "metadata": {},
     "output_type": "display_data"
    }
   ],
   "source": [
    "\n",
    "# Plot 2: Distribution of Ayahs by Place of Revelation\n",
    "revelation_counts = df[\"place_of_revelation\"].value_counts()\n",
    "plt.figure(figsize=(8, 5))\n",
    "plt.pie(revelation_counts, labels=revelation_counts.index, autopct='%1.1f%%', colors=['lightcoral', 'lightblue'], startangle=140)\n",
    "plt.title(\"Distribution of Ayahs by Place of Revelation\")\n",
    "plt.show()"
   ]
  },
  {
   "cell_type": "code",
   "execution_count": 101,
   "id": "002764e7-05c0-4e15-89d7-21c442194d63",
   "metadata": {
    "editable": true,
    "jupyter": {
     "source_hidden": true
    },
    "slideshow": {
     "slide_type": "slide"
    },
    "tags": []
   },
   "outputs": [
    {
     "data": {
      "image/png": "[encoded data removed]",
      "text/plain": [
       "<Figure size 1000x500 with 1 Axes>"
      ]
     },
     "metadata": {},
     "output_type": "display_data"
    }
   ],
   "source": [
    "\n",
    "# Plot 3: Number of Words per Ayah\n",
    "plt.figure(figsize=(10, 5))\n",
    "plt.hist(df[\"no_of_word_ayah\"], bins=range(1, max(df[\"no_of_word_ayah\"]) + 2), color='lightgreen', edgecolor='black', alpha=0.7)\n",
    "plt.xlabel(\"Number of Words in Ayah\")\n",
    "plt.ylabel(\"Frequency\")\n",
    "plt.title(\"Distribution of Words per Ayah\")\n",
    "plt.grid(axis='y', linestyle='--', alpha=0.7)\n",
    "plt.show()"
   ]
  },
  {
   "cell_type": "code",
   "execution_count": 102,
   "id": "d4569253-f3d7-4559-8d13-f128b7563d18",
   "metadata": {
    "editable": true,
    "jupyter": {
     "source_hidden": true
    },
    "slideshow": {
     "slide_type": "slide"
    },
    "tags": []
   },
   "outputs": [
    {
     "data": {
      "image/png": "[encoded data removed]",
      "text/plain": [
       "<Figure size 1000x600 with 1 Axes>"
      ]
     },
     "metadata": {},
     "output_type": "display_data"
    }
   ],
   "source": [
    "\n",
    "import matplotlib.pyplot as plt\n",
    "import arabic_reshaper\n",
    "from bidi.algorithm import get_display\n",
    "\n",
    "# Reshape and fix Arabic text\n",
    "sajdah = df.groupby(\"surah_name_ar\")[\"sajdah_ayah\"].sum().astype(int)\n",
    "sajdah = sajdah.sort_values(ascending=False).head(10)\n",
    "\n",
    "# Apply reshaping and bidirectional correction\n",
    "fixed_labels = [get_display(arabic_reshaper.reshape(name)) for name in sajdah.index]\n",
    "\n",
    "# Plot the bar chart\n",
    "plt.figure(figsize=(10, 6))\n",
    "sajdah.plot(kind='barh')\n",
    "\n",
    "# Set correct Arabic labels\n",
    "plt.yticks(ticks=range(len(fixed_labels)), labels=fixed_labels)\n",
    "\n",
    "plt.xlabel(\"Number of Sajdah Ayahs\")\n",
    "plt.ylabel(\"Surah Name (Arabic)\")\n",
    "plt.title(\"Top 10 Surahs with Most Sajdah Ayahs\")\n",
    "plt.show()"
   ]
  },
  {
   "cell_type": "markdown",
   "id": "db76d343-9cdb-46a8-935f-17ecaff2b352",
   "metadata": {
    "editable": true,
    "slideshow": {
     "slide_type": ""
    },
    "tags": []
   },
   "source": [
    "only 10 surahs conatins sajdah ? wow very cool,  i think this is only the mustahb\n",
    "\n",
    "i think this is wrong"
   ]
  },
  {
   "cell_type": "code",
   "execution_count": 103,
   "id": "d4ca0f3a-ecbb-4713-b1df-b94b759de308",
   "metadata": {
    "editable": true,
    "jupyter": {
     "source_hidden": true
    },
    "slideshow": {
     "slide_type": "slide"
    },
    "tags": []
   },
   "outputs": [
    {
     "data": {
      "image/png": "[encoded data removed]",
      "text/plain": [
       "<Figure size 1000x500 with 1 Axes>"
      ]
     },
     "metadata": {},
     "output_type": "display_data"
    }
   ],
   "source": [
    "\n",
    "# Plot 5: Juz-wise Distribution of Ayahs\n",
    "juz_counts = df.groupby(\"juz_no\")[\"ayah_no_surah\"].count()\n",
    "plt.figure(figsize=(10, 5))\n",
    "plt.bar(juz_counts.index, juz_counts.values, color='orange')\n",
    "plt.xlabel(\"Juz Number\")\n",
    "plt.ylabel(\"Number of Ayahs\")\n",
    "plt.title(\"Number of Ayahs per Juz\")\n",
    "plt.xticks(juz_counts.index)\n",
    "plt.grid(axis='y', linestyle='--', alpha=0.7)\n",
    "plt.show()"
   ]
  },
  {
   "cell_type": "markdown",
   "id": "ff8cfa09-16fb-4db7-bad2-2e7880840597",
   "metadata": {
    "editable": true,
    "slideshow": {
     "slide_type": "skip"
    },
    "tags": []
   },
   "source": [
    "`what is this ?`  i am discovering what is this"
   ]
  },
  {
   "cell_type": "code",
   "execution_count": 104,
   "id": "e390afdc-a0c9-4a25-b2d6-549f3149557e",
   "metadata": {
    "editable": true,
    "jupyter": {
     "source_hidden": true
    },
    "slideshow": {
     "slide_type": "slide"
    },
    "tags": []
   },
   "outputs": [
    {
     "data": {
      "image/png": "[encoded data removed]",
      "text/plain": [
       "<Figure size 1000x500 with 1 Axes>"
      ]
     },
     "metadata": {},
     "output_type": "display_data"
    }
   ],
   "source": [
    "\n",
    "# Plot 6: Ruko-wise Distribution of Ayahs\n",
    "ruko_counts = df.groupby(\"ruko_no\")[\"ayah_no_quran\"].count()\n",
    "plt.figure(figsize=(10, 5))\n",
    "plt.bar(ruko_counts.index, ruko_counts.values, color='red')\n",
    "plt.xlabel(\"Ruko Number\")\n",
    "plt.ylabel(\"Number of Ayahs\")\n",
    "plt.title(\"Number of Ayahs per Ruko\")\n",
    "plt.xticks(ruko_counts.index)\n",
    "plt.grid(axis='y', linestyle='--', alpha=0.7)\n",
    "plt.show()"
   ]
  },
  {
   "cell_type": "markdown",
   "id": "a3b588f4-878e-4272-b7fe-892231235ef9",
   "metadata": {},
   "source": [
    "future work: \n",
    "- sayed sistani website, `webscraping`\n",
    "- sematic thingy ?\n",
    "- nlp stuff\n",
    "- analogy of the words\n",
    "- vector things"
   ]
  },
  {
   "cell_type": "code",
   "execution_count": null,
   "id": "39a4b19d-c36e-4fa3-b3b7-ea6c02f79ef2",
   "metadata": {},
   "outputs": [],
   "source": []
  },
  {
   "cell_type": "code",
   "execution_count": null,
   "id": "a062945f-3ac0-4a38-a88f-cba660a0f290",
   "metadata": {},
   "outputs": [],
   "source": []
  },
  {
   "cell_type": "code",
   "execution_count": null,
   "id": "6594754c-ff95-48b8-b2df-0c8fe6ffc1e6",
   "metadata": {},
   "outputs": [],
   "source": []
  }
 ],
 "metadata": {
  "kernelspec": {
   "display_name": "Python 3 (ipykernel)",
   "language": "python",
   "name": "python3"
  },
  "language_info": {
   "codemirror_mode": {
    "name": "ipython",
    "version": 3
   },
   "file_extension": ".py",
   "mimetype": "text/x-python",
   "name": "python",
   "nbconvert_exporter": "python",
   "pygments_lexer": "ipython3",
   "version": "3.12.0"
  }
 },
 "nbformat": 4,
 "nbformat_minor": 5
}
